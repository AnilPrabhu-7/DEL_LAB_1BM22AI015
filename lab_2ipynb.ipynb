{
  "nbformat": 4,
  "nbformat_minor": 0,
  "metadata": {
    "colab": {
      "private_outputs": true,
      "provenance": []
    },
    "kernelspec": {
      "name": "python3",
      "display_name": "Python 3"
    },
    "language_info": {
      "name": "python"
    }
  },
  "cells": [
    {
      "cell_type": "code",
      "execution_count": null,
      "metadata": {
        "id": "iyfylwf57U4w"
      },
      "outputs": [],
      "source": [
        "import pandas as pd\n",
        "import numpy as np\n",
        "import matplotlib.pyplot as plt\n",
        "from sklearn.metrics import accuracy_score,classification_report"
      ]
    },
    {
      "cell_type": "code",
      "source": [
        "data=pd.read_csv(\"Diabetes.csv\")\n",
        "target=data.iloc[:,-1]\n",
        "data=data.iloc[:,:-1]\n",
        "data=data.to_numpy()\n",
        "# data=np.matrix(data)\n",
        "# data"
      ],
      "metadata": {
        "id": "Ajo3m4yI7WmC"
      },
      "execution_count": null,
      "outputs": []
    },
    {
      "cell_type": "code",
      "source": [
        "def sigmoid(x):\n",
        "  return 1/(1+np.exp(-x))\n",
        "def perceptron(data,n,w):\n",
        "  s=0\n",
        "  # print(n)\n",
        "  for i in range(8):\n",
        "    # print(data[i])\n",
        "    s+=data[i]*w[i]\n",
        "  r=sigmoid(s)\n",
        "  if r>=0.49:\n",
        "    return 1\n",
        "  else:\n",
        "    return 0\n",
        "def network(data,target,al):\n",
        "  shape=data.shape\n",
        "  # print(shape)\n",
        "  w=[.1]*shape[1]\n",
        "  ru=[0]*shape[0]\n",
        "  for i in range(shape[0]):\n",
        "    # print(shape)\n",
        "    ru[i]=perceptron(data[i],shape[1],w)\n",
        "    # print(shape)\n",
        "    if target[i]==ru[i]:\n",
        "      for _ in data[i]:\n",
        "        w+=al*(data[-1]-ru[i])*_\n",
        "  return w\n",
        "def test(data,w):\n",
        "  shape=data.shape\n",
        "  ru=[0]*shape[0]\n",
        "  for i in range(shape[0]):\n",
        "    ru[i]=perceptron(data[i],shape[1],w)\n",
        "  return ru\n"
      ],
      "metadata": {
        "id": "oLCd7t027awN"
      },
      "execution_count": null,
      "outputs": []
    },
    {
      "cell_type": "code",
      "source": [
        "w=network(data,target,0.01)\n",
        "re=test(data,w)\n",
        "print(re)\n",
        "print(classification_report(target,re))"
      ],
      "metadata": {
        "id": "6EiMP74U7dst"
      },
      "execution_count": null,
      "outputs": []
    },
    {
      "cell_type": "code",
      "source": [],
      "metadata": {
        "id": "JqBH9X887ktd"
      },
      "execution_count": null,
      "outputs": []
    }
  ]
}